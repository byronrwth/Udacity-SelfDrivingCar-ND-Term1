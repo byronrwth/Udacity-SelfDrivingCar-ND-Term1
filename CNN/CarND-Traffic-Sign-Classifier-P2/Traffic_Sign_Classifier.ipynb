{
 "cells": [
  {
   "cell_type": "markdown",
   "metadata": {
    "deletable": true,
    "editable": true
   },
   "source": [
    "# Self-Driving Car Engineer Nanodegree\n",
    "\n",
    "## Deep Learning\n",
    "\n",
    "## Project: Build a Traffic Sign Recognition Classifier\n",
    "\n",
    "In this notebook, a template is provided for you to implement your functionality in stages, which is required to successfully complete this project. If additional code is required that cannot be included in the notebook, be sure that the Python code is successfully imported and included in your submission if necessary. \n",
    "\n",
    "> **Note**: Once you have completed all of the code implementations, you need to finalize your work by exporting the iPython Notebook as an HTML document. Before exporting the notebook to html, all of the code cells need to have been run so that reviewers can see the final implementation and output. You can then export the notebook by using the menu above and navigating to  \\n\",\n",
    "    \"**File -> Download as -> HTML (.html)**. Include the finished document along with this notebook as your submission. \n",
    "\n",
    "In addition to implementing code, there is a writeup to complete. The writeup should be completed in a separate file, which can be either a markdown file or a pdf document. There is a [write up template](https://github.com/udacity/CarND-Traffic-Sign-Classifier-Project/blob/master/writeup_template.md) that can be used to guide the writing process. Completing the code template and writeup template will cover all of the [rubric points](https://review.udacity.com/#!/rubrics/481/view) for this project.\n",
    "\n",
    "The [rubric](https://review.udacity.com/#!/rubrics/481/view) contains \"Stand Out Suggestions\" for enhancing the project beyond the minimum requirements. The stand out suggestions are optional. If you decide to pursue the \"stand out suggestions\", you can include the code in this Ipython notebook and also discuss the results in the writeup file.\n",
    "\n",
    "\n",
    ">**Note:** Code and Markdown cells can be executed using the **Shift + Enter** keyboard shortcut. In addition, Markdown cells can be edited by typically double-clicking the cell to enter edit mode."
   ]
  },
  {
   "cell_type": "markdown",
   "metadata": {
    "deletable": true,
    "editable": true
   },
   "source": [
    "---\n",
    "## Step 0: Load The Data"
   ]
  },
  {
   "cell_type": "code",
   "execution_count": 1,
   "metadata": {
    "collapsed": true,
    "deletable": true,
    "editable": true
   },
   "outputs": [],
   "source": [
    "import pandas as pd\n",
    "\n",
    "import numpy as np\n",
    "import tensorflow as tf\n",
    "import time\n",
    "import matplotlib.pyplot as plt\n",
    "import matplotlib.image as mpimg\n",
    "import os\n",
    "%matplotlib inline"
   ]
  },
  {
   "cell_type": "code",
   "execution_count": 2,
   "metadata": {
    "collapsed": true,
    "deletable": true,
    "editable": true
   },
   "outputs": [],
   "source": [
    "from multiprocessing import Queue"
   ]
  },
  {
   "cell_type": "code",
   "execution_count": 3,
   "metadata": {
    "collapsed": false,
    "deletable": true,
    "editable": true
   },
   "outputs": [],
   "source": [
    "# Load pickled data\n",
    "import pickle\n",
    "\n",
    "# TODO: Fill this in based on where you saved the training and testing data\n",
    "\n",
    "training_file = \"traffic-signs-data/train.p\"\n",
    "#validation_file = \"traffic-signs-data/valid.p\"\n",
    "testing_file = \"traffic-signs-data/test.p\"\n",
    "\n",
    "with open(training_file, mode='rb') as f:\n",
    "    train = pickle.load(f)\n",
    "\n",
    "#with open(validation_file, mode='rb') as f:\n",
    "#    valid = pickle.load(f)\n",
    "\n",
    "with open(testing_file, mode='rb') as f:\n",
    "    test = pickle.load(f)\n",
    "    \n",
    "X_train, y_train = train['features'], train['labels']\n",
    "#X_valid, y_valid = valid['features'], valid['labels']\n",
    "X_test, y_test = test['features'], test['labels']"
   ]
  },
  {
   "cell_type": "code",
   "execution_count": 4,
   "metadata": {
    "collapsed": true
   },
   "outputs": [],
   "source": [
    "from sklearn.model_selection import train_test_split\n",
    "X_train, X_valid, y_train, y_validation = train_test_split(X_train, y_train,\n",
    "                                                  test_size=0.2,\n",
    "                                                  random_state=42)"
   ]
  },
  {
   "cell_type": "markdown",
   "metadata": {
    "deletable": true,
    "editable": true
   },
   "source": [
    "---\n",
    "\n",
    "## Step 1: Dataset Summary & Exploration\n",
    "\n",
    "The pickled data is a dictionary with 4 key/value pairs:\n",
    "\n",
    "- `'features'` is a 4D array containing raw pixel data of the traffic sign images, (num examples, width, height, channels).\n",
    "- `'labels'` is a 1D array containing the label/class id of the traffic sign. The file `signnames.csv` contains id -> name mappings for each id.\n",
    "- `'sizes'` is a list containing tuples, (width, height) representing the original width and height the image.\n",
    "- `'coords'` is a list containing tuples, (x1, y1, x2, y2) representing coordinates of a bounding box around the sign in the image. **THESE COORDINATES ASSUME THE ORIGINAL IMAGE. THE PICKLED DATA CONTAINS RESIZED VERSIONS (32 by 32) OF THESE IMAGES**\n",
    "\n",
    "Complete the basic data summary below. Use python, numpy and/or pandas methods to calculate the data summary rather than hard coding the results. For example, the [pandas shape method](http://pandas.pydata.org/pandas-docs/stable/generated/pandas.DataFrame.shape.html) might be useful for calculating some of the summary results. "
   ]
  },
  {
   "cell_type": "markdown",
   "metadata": {
    "deletable": true,
    "editable": true
   },
   "source": [
    "### Provide a Basic Summary of the Data Set Using Python, Numpy and/or Pandas"
   ]
  },
  {
   "cell_type": "code",
   "execution_count": 5,
   "metadata": {
    "collapsed": false,
    "deletable": true,
    "editable": true
   },
   "outputs": [
    {
     "name": "stdout",
     "output_type": "stream",
     "text": [
      "Number of training examples = 27839\n",
      "Number of validation examples = 6960\n",
      "Number of testing examples = 12630\n",
      "Image data shape = (32, 32, 3)\n",
      "Number of classes = 43\n"
     ]
    }
   ],
   "source": [
    "### Replace each question mark with the appropriate value. \n",
    "### Use python, pandas or numpy methods rather than hard coding the results\n",
    "\n",
    "# TODO: Number of training examples\n",
    "n_train = len(X_train)\n",
    "\n",
    "# TODO: Number of validation examples\n",
    "n_validation = len(X_valid)\n",
    "\n",
    "# TODO: Number of testing examples.\n",
    "n_test = len(X_test)\n",
    "\n",
    "# TODO: What's the shape of an traffic sign image?\n",
    "image_shape = X_train[0].shape\n",
    "\n",
    "# TODO: How many unique classes/labels there are in the dataset.\n",
    "n_classes = len(set(y_train))\n",
    "\n",
    "print(\"Number of training examples =\", n_train)\n",
    "print(\"Number of validation examples =\", n_validation)\n",
    "print(\"Number of testing examples =\", n_test)\n",
    "print(\"Image data shape =\", image_shape)\n",
    "print(\"Number of classes =\", n_classes)"
   ]
  },
  {
   "cell_type": "markdown",
   "metadata": {
    "deletable": true,
    "editable": true
   },
   "source": [
    "### Include an exploratory visualization of the dataset"
   ]
  },
  {
   "cell_type": "markdown",
   "metadata": {
    "deletable": true,
    "editable": true
   },
   "source": [
    "Visualize the German Traffic Signs Dataset using the pickled file(s). This is open ended, suggestions include: plotting traffic sign images, plotting the count of each sign, etc. \n",
    "\n",
    "The [Matplotlib](http://matplotlib.org/) [examples](http://matplotlib.org/examples/index.html) and [gallery](http://matplotlib.org/gallery.html) pages are a great resource for doing visualizations in Python.\n",
    "\n",
    "**NOTE:** It's recommended you start with something simple first. If you wish to do more, come back to it after you've completed the rest of the sections. It can be interesting to look at the distribution of classes in the training, validation and test set. Is the distribution the same? Are there more examples of some classes than others?"
   ]
  },
  {
   "cell_type": "code",
   "execution_count": 6,
   "metadata": {
    "collapsed": false,
    "deletable": true,
    "editable": true
   },
   "outputs": [
    {
     "name": "stdout",
     "output_type": "stream",
     "text": [
      "Sample images\n"
     ]
    },
    {
     "data": {
      "image/png": "[encoded data removed]",
      "text/plain": [
       "<matplotlib.figure.Figure at 0x132e7e198>"
      ]
     },
     "metadata": {},
     "output_type": "display_data"
    },
    {
     "data": {
      "image/png": "[encoded data removed]",
      "text/plain": [
       "<matplotlib.figure.Figure at 0x116fe8438>"
      ]
     },
     "metadata": {},
     "output_type": "display_data"
    },
    {
     "data": {
      "image/png": "[encoded data removed]",
      "text/plain": [
       "<matplotlib.figure.Figure at 0x134f41860>"
      ]
     },
     "metadata": {},
     "output_type": "display_data"
    },
    {
     "data": {
      "image/png": "[encoded data removed]",
      "text/plain": [
       "<matplotlib.figure.Figure at 0x134f94c18>"
      ]
     },
     "metadata": {},
     "output_type": "display_data"
    },
    {
     "data": {
      "image/png": "[encoded data removed]",
      "text/plain": [
       "<matplotlib.figure.Figure at 0x134fdf668>"
      ]
     },
     "metadata": {},
     "output_type": "display_data"
    },
    {
     "data": {
      "image/png": "[encoded data removed]",
      "text/plain": [
       "<matplotlib.figure.Figure at 0x1350323c8>"
      ]
     },
     "metadata": {},
     "output_type": "display_data"
    },
    {
     "data": {
      "image/png": "[encoded data removed]",
      "text/plain": [
       "<matplotlib.figure.Figure at 0x13507a908>"
      ]
     },
     "metadata": {},
     "output_type": "display_data"
    },
    {
     "data": {
      "image/png": "[encoded data removed]",
      "text/plain": [
       "<matplotlib.figure.Figure at 0x1350ccbe0>"
      ]
     },
     "metadata": {},
     "output_type": "display_data"
    },
    {
     "data": {
      "image/png": "[encoded data removed]",
      "text/plain": [
       "<matplotlib.figure.Figure at 0x135117f28>"
      ]
     },
     "metadata": {},
     "output_type": "display_data"
    },
    {
     "data": {
      "image/png": "[encoded data removed]",
      "text/plain": [
       "<matplotlib.figure.Figure at 0x13516f240>"
      ]
     },
     "metadata": {},
     "output_type": "display_data"
    }
   ],
   "source": [
    "# Plot four sample images\n",
    "\n",
    "import random\n",
    "\n",
    "print('Sample images')\n",
    "\n",
    "\n",
    "\n",
    "for i in range(10):\n",
    "    index = random.randint(0, len(X_train))\n",
    "    plt.figure()\n",
    "    plt.imshow(X_train[index])\n",
    "    \n",
    "plt.show()"
   ]
  },
  {
   "cell_type": "code",
   "execution_count": 7,
   "metadata": {
    "collapsed": false
   },
   "outputs": [
    {
     "data": {
      "text/plain": [
       "<matplotlib.image.AxesImage at 0x1351df390>"
      ]
     },
     "execution_count": 7,
     "metadata": {},
     "output_type": "execute_result"
    },
    {
     "data": {
      "image/png": "[encoded data removed]",
      "text/plain": [
       "<matplotlib.figure.Figure at 0x119fb50b8>"
      ]
     },
     "metadata": {},
     "output_type": "display_data"
    }
   ],
   "source": [
    "testimg = X_train[100]\n",
    "plt.imshow(testimg)"
   ]
  },
  {
   "cell_type": "code",
   "execution_count": 8,
   "metadata": {
    "collapsed": false
   },
   "outputs": [
    {
     "data": {
      "image/png": "[encoded data removed]",
      "text/plain": [
       "<matplotlib.figure.Figure at 0x1351fb470>"
      ]
     },
     "metadata": {},
     "output_type": "display_data"
    }
   ],
   "source": [
    "# to make iamges grayscale, just choose single channel\n",
    "lum_img = testimg[:,:,0]\n",
    "imgplot = plt.imshow(lum_img, cmap=\"gray\")"
   ]
  },
  {
   "cell_type": "code",
   "execution_count": 9,
   "metadata": {
    "collapsed": false
   },
   "outputs": [
    {
     "data": {
      "image/png": "[encoded data removed]",
      "text/plain": [
       "<matplotlib.figure.Figure at 0x13565bb38>"
      ]
     },
     "metadata": {},
     "output_type": "display_data"
    }
   ],
   "source": [
    "lum_img = testimg[:,:,1]\n",
    "imgplot = plt.imshow(lum_img, cmap=\"hot\")"
   ]
  },
  {
   "cell_type": "code",
   "execution_count": 10,
   "metadata": {
    "collapsed": false
   },
   "outputs": [
    {
     "data": {
      "image/png": "[encoded data removed]",
      "text/plain": [
       "<matplotlib.figure.Figure at 0x1358fbb38>"
      ]
     },
     "metadata": {},
     "output_type": "display_data"
    }
   ],
   "source": [
    "lum_img = testimg[:,:,2]\n",
    "imgplot = plt.imshow(lum_img)"
   ]
  },
  {
   "cell_type": "code",
   "execution_count": 11,
   "metadata": {
    "collapsed": false,
    "deletable": true,
    "editable": true
   },
   "outputs": [
    {
     "data": {
      "text/plain": [
       "[]"
      ]
     },
     "execution_count": 11,
     "metadata": {},
     "output_type": "execute_result"
    },
    {
     "data": {
      "image/png": "[encoded data removed]",
      "text/plain": [
       "<matplotlib.figure.Figure at 0x1359d9be0>"
      ]
     },
     "metadata": {},
     "output_type": "display_data"
    }
   ],
   "source": [
    "# Plot a histogram of the count of the number of examples of each sign\n",
    "# in the test set\n",
    "\n",
    "plt.hist(y_train, bins=n_classes)\n",
    "plt.title('Number of examples of each sign in the training set')\n",
    "plt.xlabel('Sign')\n",
    "plt.ylabel('Count')\n",
    "plt.plot()"
   ]
  },
  {
   "cell_type": "markdown",
   "metadata": {
    "deletable": true,
    "editable": true
   },
   "source": [
    "----\n",
    "\n",
    "## Step 2: Design and Test a Model Architecture\n",
    "\n",
    "Design and implement a deep learning model that learns to recognize traffic signs. Train and test your model on the [German Traffic Sign Dataset](http://benchmark.ini.rub.de/?section=gtsrb&subsection=dataset).\n",
    "\n",
    "The LeNet-5 implementation shown in the [classroom](https://classroom.udacity.com/nanodegrees/nd013/parts/fbf77062-5703-404e-b60c-95b78b2f3f9e/modules/6df7ae49-c61c-4bb2-a23e-6527e69209ec/lessons/601ae704-1035-4287-8b11-e2c2716217ad/concepts/d4aca031-508f-4e0b-b493-e7b706120f81) at the end of the CNN lesson is a solid starting point. You'll have to change the number of classes and possibly the preprocessing, but aside from that it's plug and play! \n",
    "\n",
    "With the LeNet-5 solution from the lecture, you should expect a validation set accuracy of about 0.89. To meet specifications, the validation set accuracy will need to be at least 0.93. It is possible to get an even higher accuracy, but 0.93 is the minimum for a successful project submission. \n",
    "\n",
    "There are various aspects to consider when thinking about this problem:\n",
    "\n",
    "- Neural network architecture (is the network over or underfitting?)\n",
    "- Play around preprocessing techniques (normalization, rgb to grayscale, etc)\n",
    "- Number of examples per label (some have more than others).\n",
    "- Generate fake data.\n",
    "\n",
    "Here is an example of a [published baseline model on this problem](http://yann.lecun.com/exdb/publis/pdf/sermanet-ijcnn-11.pdf). It's not required to be familiar with the approach used in the paper but, it's good practice to try to read papers like these."
   ]
  },
  {
   "cell_type": "markdown",
   "metadata": {
    "deletable": true,
    "editable": true
   },
   "source": [
    "### Pre-process the Data Set (normalization, grayscale, etc.)"
   ]
  },
  {
   "cell_type": "markdown",
   "metadata": {
    "deletable": true,
    "editable": true
   },
   "source": [
    "Minimally, the image data should be normalized so that the data has mean zero and equal variance. For image data, `(pixel - 128)/ 128` is a quick way to approximately normalize the data and can be used in this project. \n",
    "\n",
    "Other pre-processing steps are optional. You can try different techniques to see if it improves performance. \n",
    "\n",
    "Use the code cell (or multiple code cells, if necessary) to implement the first step of your project."
   ]
  },
  {
   "cell_type": "code",
   "execution_count": 12,
   "metadata": {
    "collapsed": false,
    "deletable": true,
    "editable": true
   },
   "outputs": [
    {
     "data": {
      "text/plain": [
       "\"\\nQuestion 1\\nDescribe the techniques used to preprocess the data.\\nAnswer:\\n\\n1, I converted colored images to grayscale images. \\nColor may seem like a useful identifier in determining what the sign is. \\n\\nHowever, since brightness differs so drastically, \\neven images of the same sign may have very different color values, \\nand so color information may add noise. I tested this empirically, \\nand my model performed better with grayscaling the images.\\n\\n\\n2, I shuffled the data so that it wouldn't be in any patterned order,\\nsuch as all of the signs being in a row. \\n\\nThis would cause problems \\nfor the training algorithm as we would train the model on batches of\\nthe same image instead of getting a random distribution across iamges.\\n\\n\""
      ]
     },
     "execution_count": 12,
     "metadata": {},
     "output_type": "execute_result"
    }
   ],
   "source": [
    "'''\n",
    "Question 1\n",
    "Describe the techniques used to preprocess the data.\n",
    "Answer:\n",
    "\n",
    "1, I converted colored images to grayscale images. \n",
    "Color may seem like a useful identifier in determining what the sign is. \n",
    "\n",
    "However, since brightness differs so drastically, \n",
    "even images of the same sign may have very different color values, \n",
    "and so color information may add noise. I tested this empirically, \n",
    "and my model performed better with grayscaling the images.\n",
    "\n",
    "\n",
    "2, I shuffled the data so that it wouldn't be in any patterned order,\n",
    "such as all of the signs being in a row. \n",
    "\n",
    "This would cause problems \n",
    "for the training algorithm as we would train the model on batches of\n",
    "the same image instead of getting a random distribution across iamges.\n",
    "\n",
    "'''\n",
    "\n",
    "\n",
    "    \n",
    "    "
   ]
  },
  {
   "cell_type": "code",
   "execution_count": 13,
   "metadata": {
    "collapsed": true
   },
   "outputs": [],
   "source": [
    "\n",
    "# Shuffle training examples\n",
    "from sklearn.utils import shuffle\n",
    "X_train, y_train = shuffle(X_train, y_train, random_state=42)"
   ]
  },
  {
   "cell_type": "code",
   "execution_count": 14,
   "metadata": {
    "collapsed": false
   },
   "outputs": [
    {
     "name": "stdout",
     "output_type": "stream",
     "text": [
      "Image Shape: (32, 32, 3)\n",
      "\n",
      "test shape: (32, 32, 1)\n",
      "\n",
      "after grayed Shape: (32, 32, 1)\n",
      "\n"
     ]
    }
   ],
   "source": [
    "### converting to grayscale\n",
    "\n",
    "import cv2\n",
    "import numpy as np\n",
    "print(\"Image Shape: {}\".format(X_train[0].shape) + '\\n')\n",
    "orig = X_train[0].shape\n",
    "test = np.reshape(cv2.cvtColor(X_train[0], cv2.COLOR_BGR2GRAY), (orig[0], orig[1], 1))\n",
    "print(\"test shape: {}\".format(test.shape) + '\\n')\n",
    "# plt.imshow(test, cmap='gray')\n",
    "X_train_gray = [np.reshape(cv2.cvtColor(img, cv2.COLOR_BGR2GRAY), (orig[0], orig[1], 1)) for img in X_train]\n",
    "X_validate_gray = [np.reshape(cv2.cvtColor(img, cv2.COLOR_BGR2GRAY), (orig[0], orig[1], 1)) for img in X_valid]\n",
    "X_test_gray = [np.reshape(cv2.cvtColor(img, cv2.COLOR_BGR2GRAY), (orig[0], orig[1], 1)) for img in X_test]\n",
    "\n",
    "print(\"after grayed Shape: {}\".format(X_train_gray[0].shape) + '\\n')\n"
   ]
  },
  {
   "cell_type": "code",
   "execution_count": 15,
   "metadata": {
    "collapsed": false
   },
   "outputs": [
    {
     "name": "stdout",
     "output_type": "stream",
     "text": [
      "27839 6960 12630\n"
     ]
    }
   ],
   "source": [
    "print(len(X_train_gray), len(X_validate_gray), len(X_test_gray))"
   ]
  },
  {
   "cell_type": "code",
   "execution_count": 16,
   "metadata": {
    "collapsed": true,
    "deletable": true,
    "editable": true
   },
   "outputs": [],
   "source": [
    "### Preprocess the data here. It is required to normalize the data. Other preprocessing steps could include \n"
   ]
  },
  {
   "cell_type": "code",
   "execution_count": 17,
   "metadata": {
    "collapsed": false,
    "deletable": true,
    "editable": true,
    "scrolled": true
   },
   "outputs": [
    {
     "name": "stdout",
     "output_type": "stream",
     "text": [
      "before normalization, grayed train Shape: (32, 32, 1)\n",
      "\n",
      "after normalization, normalized train Shape: (32, 32, 1)\n",
      "\n"
     ]
    }
   ],
   "source": [
    "\n",
    "# Normalisation\n",
    "\n",
    "\n",
    "# Normalise input (images still in colour)\n",
    "X_train_gray_norm = (X_train_gray - np.mean(X_train_gray))*1.0 / (np.max(X_train_gray) - np.min(X_train_gray))\n",
    "X_test_gray_norm = (X_test_gray - np.mean(X_test_gray))*1.0 / (np.max(X_test_gray) - np.min(X_test_gray))\n",
    "\n",
    "print(\"before normalization, grayed train Shape: {}\".format(X_train_gray[10].shape) + '\\n')\n",
    "\n",
    "print(\"after normalization, normalized train Shape: {}\".format(X_train_gray_norm[10].shape) + '\\n')"
   ]
  },
  {
   "cell_type": "code",
   "execution_count": 18,
   "metadata": {
    "collapsed": false
   },
   "outputs": [
    {
     "name": "stdout",
     "output_type": "stream",
     "text": [
      "after normalization, grayed Shape in validation dataset: (32, 32, 1)\n",
      "\n"
     ]
    }
   ],
   "source": [
    "X_validation_gray_norm = (X_validate_gray - np.mean(X_validate_gray)) / (np.max(X_validate_gray) - np.min(X_validate_gray))\n",
    "\n",
    "print(\"after normalization, grayed Shape in validation dataset: {}\".format(X_validation_gray_norm[10].shape) + '\\n')"
   ]
  },
  {
   "cell_type": "code",
   "execution_count": 19,
   "metadata": {
    "collapsed": false
   },
   "outputs": [
    {
     "name": "stdout",
     "output_type": "stream",
     "text": [
      "before normalization, color Shape: (32, 32, 3)\n",
      "\n",
      "after normalization, color Shape: (32, 32, 3)\n",
      "\n"
     ]
    }
   ],
   "source": [
    "X_train_color = X_train\n",
    "X_test_color = X_test\n",
    "\n",
    "\n",
    "# Normalise input (images still in colour)\n",
    "X_train_color_norm = (X_train - X_train.mean()) / (np.max(X_train) - np.min(X_train))\n",
    "X_test_color_norm = (X_test - X_test.mean()) / (np.max(X_test) - np.min(X_test))\n",
    "\n",
    "print(\"before normalization, color Shape: {}\".format(X_train_color[10].shape) + '\\n')\n",
    "\n",
    "print(\"after normalization, color Shape: {}\".format(X_train_color_norm[10].shape) + '\\n')\n"
   ]
  },
  {
   "cell_type": "code",
   "execution_count": 20,
   "metadata": {
    "collapsed": true,
    "deletable": true,
    "editable": true
   },
   "outputs": [],
   "source": [
    "\n",
    "def plot_norm_image(image_index):\n",
    "    \"\"\"Plots original image on the left and normalised image on the right.\"\"\"\n",
    "\n",
    "    plt.figure()\n",
    "    plt.imshow(X_train_color[image_index])\n",
    "    \n",
    "    plt.figure()\n",
    "    plt.imshow(X_train_color_norm[image_index])\n",
    "    \n",
    "    plt.figure()\n",
    "    plt.imshow(cv2.cvtColor(X_train_gray[image_index],cv2.COLOR_GRAY2RGB))\n",
    "    \n",
    "    plt.figure()\n",
    "    temp = np.array(X_train_gray_norm[image_index], dtype=np.float32)\n",
    "    plt.imshow(cv2.cvtColor(temp,cv2.COLOR_GRAY2RGB))\n",
    "    \n",
    "    plt.show()\n"
   ]
  },
  {
   "cell_type": "code",
   "execution_count": 21,
   "metadata": {
    "collapsed": false
   },
   "outputs": [
    {
     "data": {
      "image/png": "[encoded data removed]",
      "text/plain": [
       "<matplotlib.figure.Figure at 0x13575cac8>"
      ]
     },
     "metadata": {},
     "output_type": "display_data"
    },
    {
     "data": {
      "image/png": "[encoded data removed]",
      "text/plain": [
       "<matplotlib.figure.Figure at 0x1354fd550>"
      ]
     },
     "metadata": {},
     "output_type": "display_data"
    },
    {
     "data": {
      "image/png": "[encoded data removed]",
      "text/plain": [
       "<matplotlib.figure.Figure at 0x13516fa20>"
      ]
     },
     "metadata": {},
     "output_type": "display_data"
    },
    {
     "data": {
      "image/png": "[encoded data removed]",
      "text/plain": [
       "<matplotlib.figure.Figure at 0x1354c8320>"
      ]
     },
     "metadata": {},
     "output_type": "display_data"
    }
   ],
   "source": [
    "plot_norm_image(100)"
   ]
  },
  {
   "cell_type": "markdown",
   "metadata": {
    "deletable": true,
    "editable": true
   },
   "source": [
    "### Model Architecture"
   ]
  },
  {
   "cell_type": "code",
   "execution_count": 22,
   "metadata": {
    "collapsed": true,
    "deletable": true,
    "editable": true
   },
   "outputs": [],
   "source": [
    "### Define your architecture here.\n",
    "### Feel free to use as many code cells as needed."
   ]
  },
  {
   "cell_type": "code",
   "execution_count": 23,
   "metadata": {
    "collapsed": false,
    "deletable": true,
    "editable": true
   },
   "outputs": [
    {
     "data": {
      "text/plain": [
       "'\\nQuestion 2\\nDescribe how you set up the training, validation and testing data for your model. \\nIf you generated additional data, why?\\nAnswer:\\n\\nI directly use the validation dataset, instead of splitting training dataset;\\n\\nI also shuffled the data, as described above, to remove any bias towards patterns in the existing dataset.\\n\\n\\n\\n'"
      ]
     },
     "execution_count": 23,
     "metadata": {},
     "output_type": "execute_result"
    }
   ],
   "source": [
    "'''\n",
    "Question 2\n",
    "Describe how you set up the training, validation and testing data for your model. \n",
    "If you generated additional data, why?\n",
    "Answer:\n",
    "\n",
    "I directly use the validation dataset, instead of splitting training dataset;\n",
    "\n",
    "I also shuffled the data, as described above, to remove any bias towards patterns in the existing dataset.\n",
    "\n",
    "\n",
    "\n",
    "'''"
   ]
  },
  {
   "cell_type": "code",
   "execution_count": 24,
   "metadata": {
    "collapsed": false
   },
   "outputs": [
    {
     "name": "stdout",
     "output_type": "stream",
     "text": [
      "27839 6960 12630\n"
     ]
    }
   ],
   "source": [
    "print(len(X_train_gray_norm), len(X_validation_gray_norm), len(X_test_gray_norm))"
   ]
  },
  {
   "cell_type": "code",
   "execution_count": 25,
   "metadata": {
    "collapsed": false
   },
   "outputs": [
    {
     "data": {
      "text/plain": [
       "\"\\nQuestion 3\\nWhat does your final architecture look like? (Type of model, layers, sizes, connectivity, etc.) \\nFor reference on how to build a deep neural network using TensorFlow, \\nsee Deep Neural Network in TensorFlow from the classroom.\\n\\n\\nAnswer: because image classification tasks are quite similar, but my traffic sign dataset is much smaller than\\nImageNet, so due to Transfer Learning, I only need to input grayscale images and so the number of channels is 1:\\n\\n\\nso there are 2-layers CNNs + 3-layers full-connections architecture:\\n\\n\\n\\nLayer 1: Convolutional 32x32x1. The output shape should be 28x28x6.\\n         Activation = Relu\\n         Max-Pooling. The output shape should be 14x14x6.\\n----------------------------------------------------\\nLayer 2: Convolutional. The output shape should be 10x10x16.\\n         Activation = Relu\\n         Max-Pooling. The output shape should be 5x5x16.\\n----------------------------------------------------\\n         Flatten the output shape of the final pooling layer such that it's 1D instead of 3D.\\n         input 400 = 5 * 5 *16, output = 120\\n----------------------------------------------------\\nLayer 3: Fully Connected. This should have input 400 = 5 * 5 *16, output = 120\\n         Activation. \\nLayer 4: Fully Connected. This should have input 120, output 84 outputs.\\n         Activation\\nLayer 5: Fully Connected (Logits). This should have 43 outputs !\\n         Activation\\n----------------------------------------------------------------\\n         apply dropouts to avoid over-fitting\\n         \\n         \\n\""
      ]
     },
     "execution_count": 25,
     "metadata": {},
     "output_type": "execute_result"
    }
   ],
   "source": [
    "'''\n",
    "Question 3\n",
    "What does your final architecture look like? (Type of model, layers, sizes, connectivity, etc.) \n",
    "For reference on how to build a deep neural network using TensorFlow, \n",
    "see Deep Neural Network in TensorFlow from the classroom.\n",
    "\n",
    "\n",
    "Answer: because image classification tasks are quite similar, but my traffic sign dataset is much smaller than\n",
    "ImageNet, so due to Transfer Learning, I only need to input grayscale images and so the number of channels is 1:\n",
    "\n",
    "\n",
    "so there are 2-layers CNNs + 3-layers full-connections architecture:\n",
    "\n",
    "\n",
    "\n",
    "Layer 1: Convolutional 32x32x1. The output shape should be 28x28x6.\n",
    "         Activation = Relu\n",
    "         Max-Pooling. The output shape should be 14x14x6.\n",
    "----------------------------------------------------\n",
    "Layer 2: Convolutional. The output shape should be 10x10x16.\n",
    "         Activation = Relu\n",
    "         Max-Pooling. The output shape should be 5x5x16.\n",
    "----------------------------------------------------\n",
    "         Flatten the output shape of the final pooling layer such that it's 1D instead of 3D.\n",
    "         input 400 = 5 * 5 *16, output = 120\n",
    "----------------------------------------------------\n",
    "Layer 3: Fully Connected. This should have input 400 = 5 * 5 *16, output = 120\n",
    "         Activation. \n",
    "Layer 4: Fully Connected. This should have input 120, output 84 outputs.\n",
    "         Activation\n",
    "Layer 5: Fully Connected (Logits). This should have 43 outputs !\n",
    "         Activation\n",
    "----------------------------------------------------------------\n",
    "         apply dropouts to avoid over-fitting\n",
    "         \n",
    "         \n",
    "'''"
   ]
  },
  {
   "cell_type": "code",
   "execution_count": 26,
   "metadata": {
    "collapsed": true
   },
   "outputs": [],
   "source": [
    "patch_size = 5\n",
    "num_channels = 1 #grayscale\n",
    "\n",
    "depth_conv1 = 6\n",
    "depth_conv2 = 16\n",
    "\n",
    "fc_1_output = 120\n",
    "fc_2_output = 84\n",
    "fc_3_output = 43\n",
    "\n",
    "dropout_keepers = .9\n"
   ]
  },
  {
   "cell_type": "code",
   "execution_count": 27,
   "metadata": {
    "collapsed": true
   },
   "outputs": [],
   "source": [
    "def conv2d(x, W, b):\n",
    "    \"\"\"Conv2D wrapper, with bias and relu activation\"\"\"\n",
    "    \n",
    "    # strides = [batch, in_height, in_width, channels]\n",
    "    x = tf.nn.conv2d(x, W, strides=[1, 1, 1, 1], padding='VALID')\n",
    "    x = tf.nn.bias_add(x, b)\n",
    "    return tf.nn.relu(x)"
   ]
  },
  {
   "cell_type": "code",
   "execution_count": 28,
   "metadata": {
    "collapsed": true
   },
   "outputs": [],
   "source": [
    "def fullconnected(x, W, b):\n",
    "    \"\"\"Conv2D wrapper, with bias and relu activation\"\"\"\n",
    "    \n",
    "    x = tf.matmul(x, W)\n",
    "    x = x + b\n",
    "    return tf.nn.relu(x)"
   ]
  },
  {
   "cell_type": "code",
   "execution_count": 29,
   "metadata": {
    "collapsed": false
   },
   "outputs": [],
   "source": [
    "from tensorflow.contrib.layers import flatten\n",
    "\n",
    "#------ Layer 1: Convolutional. Input = 32x32x1. Output = 28x28x6 -----#\n",
    "#conv1_W = weights['conv1']\n",
    "#conv1_b = biases['conv1']\n",
    "    \n",
    "#conv1 = tf.nn.conv2d(x, conv1_W, strides=[1, 1, 1, 1], padding='VALID') + conv1_b\n",
    "    \n",
    "#------ Activation ---------------------------------------------------#\n",
    "#conv1 = tf.nn.relu(conv1)\n",
    "\n",
    "\n",
    "def LeNet(x):    \n",
    "    # Arguments used for tf.truncated_normal, randomly defines variables for the weights and biases for each layer\n",
    "    mu = 0\n",
    "    sigma = 0.1\n",
    "    \n",
    "    weights = {\n",
    "        'conv1': tf.Variable(tf.truncated_normal([patch_size, patch_size, num_channels, depth_conv1], mean=mu, stddev=sigma)),\n",
    "        'conv2': tf.Variable(tf.truncated_normal([patch_size, patch_size, depth_conv1, depth_conv2], mean=mu, stddev=sigma)),\n",
    "        'fc1': tf.Variable(tf.truncated_normal([400, fc_1_output], mean=mu, stddev=sigma)),\n",
    "        'fc2': tf.Variable(tf.truncated_normal([fc_1_output, fc_2_output], mean=mu, stddev=sigma)),\n",
    "        'fc3': tf.Variable(tf.truncated_normal([fc_2_output, fc_3_output], mean=mu, stddev=sigma))\n",
    "    }\n",
    "    \n",
    "    biases = {\n",
    "        'conv1': tf.Variable(tf.zeros([depth_conv1])),\n",
    "        'conv2': tf.Variable(tf.zeros(shape=[depth_conv2])),\n",
    "        'fc1': tf.Variable(tf.zeros(shape=[fc_1_output])),\n",
    "        'fc2': tf.Variable(tf.zeros(shape=[fc_2_output])),\n",
    "        'fc3': tf.Variable(tf.zeros(shape=[fc_3_output]))\n",
    "    }\n",
    "\n",
    "    conv1 = conv2d(x, weights['conv1'], biases['conv1'])\n",
    "    \n",
    "    # add dropout 0.9\n",
    "    #conv1_drop = tf.nn.dropout(conv1, dropout_keepers)\n",
    "    conv1_drop = tf.nn.dropout(conv1, 0.8)\n",
    "\n",
    "    #------  Pooling. Input = 28x28x6. Output = 14x14x6.------------------#\n",
    "    conv1_pooling = tf.nn.max_pool(conv1_drop, [1, 2, 2, 1], [1, 2, 2, 1], padding='SAME')\n",
    "\n",
    "    #------ Layer 2: Convolutional. Output = 10x10x16 --------------------#\n",
    "\n",
    "    conv2 = conv2d(conv1_pooling, weights['conv2'], biases['conv2'])\n",
    "    \n",
    "    # add dropout 0.9\n",
    "    #conv2_drop = tf.nn.dropout(conv2, dropout_keepers)\n",
    "    conv2_drop = tf.nn.dropout(conv2, 0.8)\n",
    "    \n",
    "    #------ Pooling. Input = 10x10x16. Output = 5x5x16. --------------------#\n",
    "    conv2_pooling = tf.nn.max_pool(conv2_drop, [1, 2, 2, 1], [1, 2, 2, 1], padding='SAME')\n",
    "\n",
    "    # Flatten. Input = 5x5x16. change 3D into 1D: Output = 400.\n",
    "    fc0   = flatten(conv2_pooling)\n",
    "    \n",
    "    #------  Layer 3: Fully Connected. Input = 400. Output = 120. ----------#\n",
    "    \n",
    "    fc1 = fullconnected(fc0, weights['fc1'], biases['fc1'])\n",
    "    \n",
    "    # add dropout 0.9\n",
    "    #fc1_drop = tf.nn.dropout(fc1, dropout_keepers)\n",
    "    fc1_drop = tf.nn.dropout(fc1, 0.8)\n",
    "    \n",
    "    #------ Layer 4: Fully Connected. Input = 120. Output = 84. ------------#\n",
    "\n",
    "    fc2 = fullconnected(fc1_drop, weights['fc2'], biases['fc2'])\n",
    "\n",
    "    # add dropout 0.9\n",
    "    #fc2_drop = tf.nn.dropout(fc2, dropout_keepers)\n",
    "    fc2_drop = tf.nn.dropout(fc2, 0.8)\n",
    "    \n",
    "    #------ Layer 5: Fully Connected. Input = 84. Output = 43. ------------#\n",
    "    \n",
    "    logits = fullconnected(fc2_drop, weights['fc3'], biases['fc3'])\n",
    "    \n",
    "    #return logits, weights\n",
    "    return logits, conv1, conv2, fc1, fc2"
   ]
  },
  {
   "cell_type": "code",
   "execution_count": 30,
   "metadata": {
    "collapsed": false
   },
   "outputs": [
    {
     "data": {
      "text/plain": [
       "\"\\nQuestion 4\\nHow did you train your model? (Type of optimizer, batch size, epochs, hyperparameters, etc.)\\n\\nAnswer: \\nI used the adamoptimizer, \\nwhich changes the gradient based on the past gradients in a similar way to momentum. \\nIn comparison to normal gradient descent, the adamoptimizer allows us to more efficiently \\nfind the optimum by dynamically changing the gradient. \\n\\nLearning rates are typically between .01 and .0001,\\nand through testing multiple options, I found that .001 works well. Batch size is typically between 32 and 256, \\nand through testing multiple options I found that 128 worked well. \\n\\nTried l2 normalization but that didn't seem to help. \\nI tried multiple dropout amounts--(.5 gave awful results, no dropout led to overfitting after epoch 3),\\nbut .8 seemed to work well. I ran it for 30 epochs, \\nafter finding that the model stopped improving accuracy at 30. \\n\\nWeights set to the default values of 0 mean and .1 standard deviation\\nto start to resemble a normal distribution.\\n\\n\""
      ]
     },
     "execution_count": 30,
     "metadata": {},
     "output_type": "execute_result"
    }
   ],
   "source": [
    "'''\n",
    "Question 4\n",
    "How did you train your model? (Type of optimizer, batch size, epochs, hyperparameters, etc.)\n",
    "\n",
    "Answer: \n",
    "I used the adamoptimizer, \n",
    "which changes the gradient based on the past gradients in a similar way to momentum. \n",
    "In comparison to normal gradient descent, the adamoptimizer allows us to more efficiently \n",
    "find the optimum by dynamically changing the gradient. \n",
    "\n",
    "Learning rates are typically between .01 and .0001,\n",
    "and through testing multiple options, I found that .001 works well. Batch size is typically between 32 and 256, \n",
    "and through testing multiple options I found that 128 worked well. \n",
    "\n",
    "Tried l2 normalization but that didn't seem to help. \n",
    "I tried multiple dropout amounts--(.5 gave awful results, no dropout led to overfitting after epoch 3),\n",
    "but .8 seemed to work well. I ran it for 30 epochs, \n",
    "after finding that the model stopped improving accuracy at 30. \n",
    "\n",
    "Weights set to the default values of 0 mean and .1 standard deviation\n",
    "to start to resemble a normal distribution.\n",
    "\n",
    "'''"
   ]
  },
  {
   "cell_type": "code",
   "execution_count": 31,
   "metadata": {
    "collapsed": true,
    "deletable": true,
    "editable": true
   },
   "outputs": [],
   "source": [
    "# tf Graph input\n",
    "x_unflattened = tf.placeholder(tf.float32, [None, 32, 32, 1])\n",
    "x = x_unflattened\n",
    "\n",
    "y = tf.placeholder(tf.int32, [None])\n",
    "one_hot_y = tf.one_hot(y, depth=43, on_value=1., off_value=0., axis=-1) # type: Tensor"
   ]
  },
  {
   "cell_type": "code",
   "execution_count": 32,
   "metadata": {
    "collapsed": false
   },
   "outputs": [
    {
     "name": "stdout",
     "output_type": "stream",
     "text": [
      "x_unflattened type: <class 'tensorflow.python.framework.ops.Tensor'>\n",
      "\n",
      "y type: <class 'tensorflow.python.framework.ops.Tensor'>\n",
      "\n",
      "one_hot_y type: <class 'tensorflow.python.framework.ops.Tensor'>\n",
      "\n"
     ]
    }
   ],
   "source": [
    "print(\"x_unflattened type: {}\".format(type(x_unflattened)) + '\\n')\n",
    "\n",
    "print(\"y type: {}\".format(type(y)) + '\\n')\n",
    "\n",
    "print(\"one_hot_y type: {}\".format(type(one_hot_y)) + '\\n')\n",
    "\n"
   ]
  },
  {
   "cell_type": "code",
   "execution_count": 33,
   "metadata": {
    "collapsed": false
   },
   "outputs": [],
   "source": [
    "rate = 0.001\n",
    "\n",
    "#logits, weights = LeNet(x)\n",
    "logits, conv1, conv2, fc1, fc2 = LeNet(x)  # type: Tensor"
   ]
  },
  {
   "cell_type": "code",
   "execution_count": 34,
   "metadata": {
    "collapsed": true
   },
   "outputs": [],
   "source": [
    "cross_entropy = tf.nn.softmax_cross_entropy_with_logits(labels=one_hot_y, logits=logits)\n",
    "loss_operation = tf.reduce_mean(cross_entropy)\n",
    "optimizer = tf.train.AdamOptimizer(learning_rate = rate)\n",
    "training_operation = optimizer.minimize(loss_operation)"
   ]
  },
  {
   "cell_type": "code",
   "execution_count": 35,
   "metadata": {
    "collapsed": true
   },
   "outputs": [],
   "source": [
    "\n",
    "EPOCHS = 150 #5\n",
    "BATCH_SIZE = 128"
   ]
  },
  {
   "cell_type": "code",
   "execution_count": 36,
   "metadata": {
    "collapsed": true
   },
   "outputs": [],
   "source": [
    "correct_prediction = tf.equal(tf.argmax(logits, 1), tf.argmax(one_hot_y, 1))\n",
    "accuracy_operation = tf.reduce_mean(tf.cast(correct_prediction, tf.float32))\n",
    "\n",
    "\n"
   ]
  },
  {
   "cell_type": "code",
   "execution_count": 37,
   "metadata": {
    "collapsed": true
   },
   "outputs": [],
   "source": [
    "def evaluate(X_data, y_data):\n",
    "    num_examples = len(X_data)\n",
    "    total_accuracy = 0\n",
    "    sess = tf.get_default_session()\n",
    "    for offset in range(0, num_examples, BATCH_SIZE):\n",
    "        batch_x, batch_y = X_data[offset:offset+BATCH_SIZE], y_data[offset:offset+BATCH_SIZE]\n",
    "        accuracy = sess.run(accuracy_operation, feed_dict={x: batch_x, y: batch_y})\n",
    "        total_accuracy += (accuracy * len(batch_x))\n",
    "    return total_accuracy / num_examples"
   ]
  },
  {
   "cell_type": "code",
   "execution_count": 38,
   "metadata": {
    "collapsed": false
   },
   "outputs": [
    {
     "name": "stdout",
     "output_type": "stream",
     "text": [
      "y_test Shape: (12630,)\n",
      "\n",
      "y_test[0] : 16\n",
      "\n",
      "12630\n"
     ]
    }
   ],
   "source": [
    "print(\"y_test Shape: {}\".format(y_test.shape) + '\\n')\n",
    "\n",
    "print(\"y_test[0] : {}\".format(y_test[0]) + '\\n')\n",
    "\n",
    "\n",
    "print(len(X_test_gray))"
   ]
  },
  {
   "cell_type": "code",
   "execution_count": 39,
   "metadata": {
    "collapsed": false
   },
   "outputs": [
    {
     "name": "stdout",
     "output_type": "stream",
     "text": [
      "Training...\n",
      "\n",
      "EPOCH 1 ...\n",
      "Validation Accuracyevaluate = 0.572\n",
      "\n",
      "EPOCH 2 ...\n",
      "Validation Accuracyevaluate = 0.705\n",
      "\n",
      "EPOCH 3 ...\n",
      "Validation Accuracyevaluate = 0.757\n",
      "\n",
      "EPOCH 4 ...\n",
      "Validation Accuracyevaluate = 0.783\n",
      "\n",
      "EPOCH 5 ...\n",
      "Validation Accuracyevaluate = 0.793\n",
      "\n",
      "EPOCH 6 ...\n",
      "Validation Accuracyevaluate = 0.812\n",
      "\n",
      "EPOCH 7 ...\n",
      "Validation Accuracyevaluate = 0.809\n",
      "\n",
      "EPOCH 8 ...\n",
      "Validation Accuracyevaluate = 0.821\n",
      "\n",
      "EPOCH 9 ...\n",
      "Validation Accuracyevaluate = 0.827\n",
      "\n",
      "EPOCH 10 ...\n",
      "Validation Accuracyevaluate = 0.828\n",
      "\n",
      "EPOCH 11 ...\n",
      "Validation Accuracyevaluate = 0.833\n",
      "\n",
      "EPOCH 12 ...\n",
      "Validation Accuracyevaluate = 0.834\n",
      "\n",
      "EPOCH 13 ...\n",
      "Validation Accuracyevaluate = 0.833\n",
      "\n",
      "EPOCH 14 ...\n",
      "Validation Accuracyevaluate = 0.841\n",
      "\n",
      "EPOCH 15 ...\n",
      "Validation Accuracyevaluate = 0.844\n",
      "\n",
      "EPOCH 16 ...\n",
      "Validation Accuracyevaluate = 0.836\n",
      "\n",
      "EPOCH 17 ...\n",
      "Validation Accuracyevaluate = 0.846\n",
      "\n",
      "EPOCH 18 ...\n",
      "Validation Accuracyevaluate = 0.858\n",
      "\n",
      "EPOCH 19 ...\n",
      "Validation Accuracyevaluate = 0.849\n",
      "\n",
      "EPOCH 20 ...\n",
      "Validation Accuracyevaluate = 0.858\n",
      "\n",
      "EPOCH 21 ...\n",
      "Validation Accuracyevaluate = 0.853\n",
      "\n",
      "EPOCH 22 ...\n",
      "Validation Accuracyevaluate = 0.859\n",
      "\n",
      "EPOCH 23 ...\n",
      "Validation Accuracyevaluate = 0.858\n",
      "\n",
      "EPOCH 24 ...\n",
      "Validation Accuracyevaluate = 0.860\n",
      "\n",
      "EPOCH 25 ...\n",
      "Validation Accuracyevaluate = 0.860\n",
      "\n",
      "EPOCH 26 ...\n",
      "Validation Accuracyevaluate = 0.862\n",
      "\n",
      "EPOCH 27 ...\n",
      "Validation Accuracyevaluate = 0.860\n",
      "\n",
      "EPOCH 28 ...\n",
      "Validation Accuracyevaluate = 0.861\n",
      "\n",
      "EPOCH 29 ...\n",
      "Validation Accuracyevaluate = 0.861\n",
      "\n",
      "EPOCH 30 ...\n",
      "Validation Accuracyevaluate = 0.866\n",
      "\n",
      "EPOCH 31 ...\n",
      "Validation Accuracyevaluate = 0.864\n",
      "\n",
      "EPOCH 32 ...\n",
      "Validation Accuracyevaluate = 0.865\n",
      "\n",
      "EPOCH 33 ...\n",
      "Validation Accuracyevaluate = 0.864\n",
      "\n",
      "EPOCH 34 ...\n",
      "Validation Accuracyevaluate = 0.865\n",
      "\n",
      "EPOCH 35 ...\n",
      "Validation Accuracyevaluate = 0.866\n",
      "\n",
      "EPOCH 36 ...\n",
      "Validation Accuracyevaluate = 0.866\n",
      "\n",
      "EPOCH 37 ...\n",
      "Validation Accuracyevaluate = 0.863\n",
      "\n",
      "EPOCH 38 ...\n",
      "Validation Accuracyevaluate = 0.868\n",
      "\n",
      "EPOCH 39 ...\n",
      "Validation Accuracyevaluate = 0.864\n",
      "\n",
      "EPOCH 40 ...\n",
      "Validation Accuracyevaluate = 0.867\n",
      "\n",
      "EPOCH 41 ...\n",
      "Validation Accuracyevaluate = 0.868\n",
      "\n",
      "EPOCH 42 ...\n",
      "Validation Accuracyevaluate = 0.866\n",
      "\n",
      "EPOCH 43 ...\n",
      "Validation Accuracyevaluate = 0.865\n",
      "\n",
      "EPOCH 44 ...\n",
      "Validation Accuracyevaluate = 0.866\n",
      "\n",
      "EPOCH 45 ...\n",
      "Validation Accuracyevaluate = 0.867\n",
      "\n",
      "EPOCH 46 ...\n",
      "Validation Accuracyevaluate = 0.872\n",
      "\n",
      "EPOCH 47 ...\n",
      "Validation Accuracyevaluate = 0.868\n",
      "\n",
      "EPOCH 48 ...\n",
      "Validation Accuracyevaluate = 0.870\n",
      "\n",
      "EPOCH 49 ...\n",
      "Validation Accuracyevaluate = 0.870\n",
      "\n",
      "EPOCH 50 ...\n",
      "Validation Accuracyevaluate = 0.867\n",
      "\n",
      "EPOCH 51 ...\n",
      "Validation Accuracyevaluate = 0.867\n",
      "\n",
      "EPOCH 52 ...\n",
      "Validation Accuracyevaluate = 0.869\n",
      "\n",
      "EPOCH 53 ...\n",
      "Validation Accuracyevaluate = 0.869\n",
      "\n",
      "EPOCH 54 ...\n",
      "Validation Accuracyevaluate = 0.871\n",
      "\n",
      "EPOCH 55 ...\n",
      "Validation Accuracyevaluate = 0.868\n",
      "\n",
      "EPOCH 56 ...\n",
      "Validation Accuracyevaluate = 0.869\n",
      "\n",
      "EPOCH 57 ...\n",
      "Validation Accuracyevaluate = 0.871\n",
      "\n",
      "EPOCH 58 ...\n",
      "Validation Accuracyevaluate = 0.868\n",
      "\n",
      "EPOCH 59 ...\n",
      "Validation Accuracyevaluate = 0.870\n",
      "\n",
      "EPOCH 60 ...\n",
      "Validation Accuracyevaluate = 0.867\n",
      "\n",
      "EPOCH 61 ...\n",
      "Validation Accuracyevaluate = 0.870\n",
      "\n",
      "EPOCH 62 ...\n",
      "Validation Accuracyevaluate = 0.867\n",
      "\n",
      "EPOCH 63 ...\n",
      "Validation Accuracyevaluate = 0.869\n",
      "\n",
      "EPOCH 64 ...\n",
      "Validation Accuracyevaluate = 0.869\n",
      "\n",
      "EPOCH 65 ...\n",
      "Validation Accuracyevaluate = 0.870\n",
      "\n",
      "EPOCH 66 ...\n",
      "Validation Accuracyevaluate = 0.871\n",
      "\n",
      "EPOCH 67 ...\n",
      "Validation Accuracyevaluate = 0.871\n",
      "\n",
      "EPOCH 68 ...\n",
      "Validation Accuracyevaluate = 0.869\n",
      "\n",
      "EPOCH 69 ...\n",
      "Validation Accuracyevaluate = 0.870\n",
      "\n",
      "EPOCH 70 ...\n",
      "Validation Accuracyevaluate = 0.870\n",
      "\n",
      "EPOCH 71 ...\n",
      "Validation Accuracyevaluate = 0.869\n",
      "\n",
      "EPOCH 72 ...\n",
      "Validation Accuracyevaluate = 0.871\n",
      "\n",
      "EPOCH 73 ...\n",
      "Validation Accuracyevaluate = 0.871\n",
      "\n",
      "EPOCH 74 ...\n",
      "Validation Accuracyevaluate = 0.871\n",
      "\n",
      "EPOCH 75 ...\n",
      "Validation Accuracyevaluate = 0.871\n",
      "\n",
      "EPOCH 76 ...\n",
      "Validation Accuracyevaluate = 0.870\n",
      "\n",
      "EPOCH 77 ...\n",
      "Validation Accuracyevaluate = 0.870\n",
      "\n",
      "EPOCH 78 ...\n",
      "Validation Accuracyevaluate = 0.871\n",
      "\n",
      "EPOCH 79 ...\n",
      "Validation Accuracyevaluate = 0.869\n",
      "\n",
      "EPOCH 80 ...\n",
      "Validation Accuracyevaluate = 0.871\n",
      "\n",
      "EPOCH 81 ...\n",
      "Validation Accuracyevaluate = 0.870\n",
      "\n",
      "EPOCH 82 ...\n",
      "Validation Accuracyevaluate = 0.867\n",
      "\n",
      "EPOCH 83 ...\n",
      "Validation Accuracyevaluate = 0.872\n",
      "\n",
      "EPOCH 84 ...\n",
      "Validation Accuracyevaluate = 0.870\n",
      "\n",
      "EPOCH 85 ...\n",
      "Validation Accuracyevaluate = 0.872\n",
      "\n",
      "EPOCH 86 ...\n",
      "Validation Accuracyevaluate = 0.872\n",
      "\n",
      "EPOCH 87 ...\n",
      "Validation Accuracyevaluate = 0.870\n",
      "\n",
      "EPOCH 88 ...\n",
      "Validation Accuracyevaluate = 0.871\n",
      "\n",
      "EPOCH 89 ...\n",
      "Validation Accuracyevaluate = 0.872\n",
      "\n",
      "EPOCH 90 ...\n",
      "Validation Accuracyevaluate = 0.876\n",
      "\n",
      "EPOCH 91 ...\n",
      "Validation Accuracyevaluate = 0.873\n",
      "\n",
      "EPOCH 92 ...\n",
      "Validation Accuracyevaluate = 0.872\n",
      "\n",
      "EPOCH 93 ...\n",
      "Validation Accuracyevaluate = 0.870\n",
      "\n",
      "EPOCH 94 ...\n",
      "Validation Accuracyevaluate = 0.868\n",
      "\n",
      "EPOCH 95 ...\n",
      "Validation Accuracyevaluate = 0.870\n",
      "\n",
      "EPOCH 96 ...\n",
      "Validation Accuracyevaluate = 0.870\n",
      "\n",
      "EPOCH 97 ...\n",
      "Validation Accuracyevaluate = 0.872\n",
      "\n",
      "EPOCH 98 ...\n",
      "Validation Accuracyevaluate = 0.873\n",
      "\n",
      "EPOCH 99 ...\n",
      "Validation Accuracyevaluate = 0.874\n",
      "\n",
      "EPOCH 100 ...\n",
      "Validation Accuracyevaluate = 0.873\n",
      "\n",
      "EPOCH 101 ...\n",
      "Validation Accuracyevaluate = 0.873\n",
      "\n",
      "EPOCH 102 ...\n",
      "Validation Accuracyevaluate = 0.873\n",
      "\n",
      "EPOCH 103 ...\n",
      "Validation Accuracyevaluate = 0.872\n",
      "\n",
      "EPOCH 104 ...\n",
      "Validation Accuracyevaluate = 0.873\n",
      "\n",
      "EPOCH 105 ...\n",
      "Validation Accuracyevaluate = 0.871\n",
      "\n",
      "EPOCH 106 ...\n",
      "Validation Accuracyevaluate = 0.873\n",
      "\n",
      "EPOCH 107 ...\n",
      "Validation Accuracyevaluate = 0.872\n",
      "\n",
      "EPOCH 108 ...\n",
      "Validation Accuracyevaluate = 0.872\n",
      "\n",
      "EPOCH 109 ...\n",
      "Validation Accuracyevaluate = 0.871\n",
      "\n",
      "EPOCH 110 ...\n",
      "Validation Accuracyevaluate = 0.875\n",
      "\n",
      "EPOCH 111 ...\n",
      "Validation Accuracyevaluate = 0.871\n",
      "\n",
      "EPOCH 112 ...\n",
      "Validation Accuracyevaluate = 0.875\n",
      "\n",
      "EPOCH 113 ...\n",
      "Validation Accuracyevaluate = 0.873\n",
      "\n",
      "EPOCH 114 ...\n",
      "Validation Accuracyevaluate = 0.874\n",
      "\n",
      "EPOCH 115 ...\n",
      "Validation Accuracyevaluate = 0.871\n",
      "\n",
      "EPOCH 116 ...\n",
      "Validation Accuracyevaluate = 0.872\n",
      "\n",
      "EPOCH 117 ...\n",
      "Validation Accuracyevaluate = 0.872\n",
      "\n",
      "EPOCH 118 ...\n",
      "Validation Accuracyevaluate = 0.872\n",
      "\n",
      "EPOCH 119 ...\n",
      "Validation Accuracyevaluate = 0.870\n",
      "\n",
      "EPOCH 120 ...\n",
      "Validation Accuracyevaluate = 0.870\n",
      "\n",
      "EPOCH 121 ...\n",
      "Validation Accuracyevaluate = 0.875\n",
      "\n",
      "EPOCH 122 ...\n",
      "Validation Accuracyevaluate = 0.872\n",
      "\n",
      "EPOCH 123 ...\n",
      "Validation Accuracyevaluate = 0.872\n",
      "\n",
      "EPOCH 124 ...\n",
      "Validation Accuracyevaluate = 0.874\n",
      "\n",
      "EPOCH 125 ...\n",
      "Validation Accuracyevaluate = 0.874\n",
      "\n",
      "EPOCH 126 ...\n",
      "Validation Accuracyevaluate = 0.872\n",
      "\n",
      "EPOCH 127 ...\n",
      "Validation Accuracyevaluate = 0.873\n",
      "\n",
      "EPOCH 128 ...\n",
      "Validation Accuracyevaluate = 0.872\n",
      "\n",
      "EPOCH 129 ...\n",
      "Validation Accuracyevaluate = 0.874\n",
      "\n",
      "EPOCH 130 ...\n",
      "Validation Accuracyevaluate = 0.871\n",
      "\n",
      "EPOCH 131 ...\n",
      "Validation Accuracyevaluate = 0.874\n",
      "\n",
      "EPOCH 132 ...\n",
      "Validation Accuracyevaluate = 0.871\n",
      "\n",
      "EPOCH 133 ...\n",
      "Validation Accuracyevaluate = 0.873\n",
      "\n",
      "EPOCH 134 ...\n",
      "Validation Accuracyevaluate = 0.873\n",
      "\n",
      "EPOCH 135 ...\n",
      "Validation Accuracyevaluate = 0.874\n",
      "\n",
      "EPOCH 136 ...\n",
      "Validation Accuracyevaluate = 0.872\n",
      "\n",
      "EPOCH 137 ...\n",
      "Validation Accuracyevaluate = 0.873\n",
      "\n",
      "EPOCH 138 ...\n",
      "Validation Accuracyevaluate = 0.874\n",
      "\n",
      "EPOCH 139 ...\n",
      "Validation Accuracyevaluate = 0.873\n",
      "\n",
      "EPOCH 140 ...\n",
      "Validation Accuracyevaluate = 0.872\n",
      "\n",
      "EPOCH 141 ...\n",
      "Validation Accuracyevaluate = 0.876\n",
      "\n",
      "EPOCH 142 ...\n",
      "Validation Accuracyevaluate = 0.874\n",
      "\n",
      "EPOCH 143 ...\n",
      "Validation Accuracyevaluate = 0.871\n",
      "\n",
      "EPOCH 144 ...\n",
      "Validation Accuracyevaluate = 0.871\n",
      "\n",
      "EPOCH 145 ...\n",
      "Validation Accuracyevaluate = 0.874\n",
      "\n",
      "EPOCH 146 ...\n",
      "Validation Accuracyevaluate = 0.873\n",
      "\n",
      "EPOCH 147 ...\n",
      "Validation Accuracyevaluate = 0.874\n",
      "\n",
      "EPOCH 148 ...\n",
      "Validation Accuracyevaluate = 0.873\n",
      "\n",
      "EPOCH 149 ...\n",
      "Validation Accuracyevaluate = 0.873\n",
      "\n",
      "EPOCH 150 ...\n",
      "Validation Accuracyevaluate = 0.874\n",
      "\n",
      "Optimization Finished!\n",
      "test_accuracy =  0.821219318921\n",
      "Model saved\n"
     ]
    }
   ],
   "source": [
    "\n",
    "\n",
    "\n",
    "\n",
    "x_input = X_train_gray_norm\n",
    "\n",
    "\n",
    "# Training parameters\n",
    "\n",
    "initial_learning_rate = rate\n",
    "\n",
    "\n",
    "# Initialise time logs\n",
    "init_time = time.time()\n",
    "epoch_time = init_time\n",
    "\n",
    "five_epoch_moving_average = 0.\n",
    "epoch_accuracies = []\n",
    "display_step = 1\n",
    "\n",
    "anneal_mod_frequency = 15\n",
    "# Annealing rate of 1: learning rate remains constant.\n",
    "annealing_rate = 1\n",
    "\n",
    "print_accuracy_mod_frequency = 1\n",
    "\n",
    "\n",
    "with tf.Session() as sess:\n",
    "    sess.run(tf.global_variables_initializer())\n",
    "    num_examples = len(x_input) #normalized grayscale\n",
    "    \n",
    "    print(\"Training...\")\n",
    "    print()\n",
    "    \n",
    "    for epoch in range(EPOCHS):\n",
    "        if five_epoch_moving_average > 0.96:\n",
    "            break\n",
    "        \n",
    "        avg_cost = 0.\n",
    "        \n",
    "        total_batch = int(len(x_input) / BATCH_SIZE)\n",
    "        \n",
    "        x_input, y_train = shuffle(x_input, y_train)\n",
    "\n",
    "      \n",
    "\n",
    "      \n",
    "    \n",
    "        for offset in range(0, num_examples, BATCH_SIZE):\n",
    "            end = offset + BATCH_SIZE\n",
    "            batch_x, batch_y = x_input[offset:end], y_train[offset:end]\n",
    "            sess.run(training_operation, feed_dict={x: batch_x, y: batch_y})\n",
    "      \n",
    "            \n",
    "        validation_accuracy_evaluate = evaluate(X_validation_gray_norm, y_validation)\n",
    "        print(\"EPOCH {} ...\".format(epoch+1))\n",
    "        print(\"Validation Accuracyevaluate = {:.3f}\".format(validation_accuracy_evaluate))\n",
    "        \n",
    "        #validation_accuracy_accuracy_operation = accuracy_operation.eval({x_unflattened: X_validation_gray_norm, y: y_validation})\n",
    "        #print(\"EPOCH {} ...\".format(i+1))\n",
    "        #print(\"Validation Accuracy accuracy_operation= {:.3f}\".format(validation_accuracy_accuracy_operation))\n",
    "        \n",
    "        #print(\"check weights have been updated by backpropagation \")\n",
    "        #ts_res = sess.run(weights)\n",
    "        #print(ts_res['conv1'])\n",
    "\n",
    "        print()\n",
    "    \n",
    "    \n",
    "    print(\"Optimization Finished!\")\n",
    "\n",
    "    # only after train EPOCHS * times, calculate test accuracy ! \n",
    "    test_accuracy = evaluate(X_test_gray, y_test)\n",
    "    print('test_accuracy = ', test_accuracy)\n",
    "    \n",
    "    \n",
    "    #print(\"before saving model, check weights to be saved\")\n",
    "    #ts_res = sess.run(weights)\n",
    "    #print(ts_res['conv1'])\n",
    "        \n",
    "    try:\n",
    "        saver\n",
    "    except NameError:\n",
    "        saver = tf.train.Saver()\n",
    "    #saver.save(sess, './lenet')\n",
    "    saver.save(sess, 'lenet')\n",
    "    print(\"Model saved\")\n",
    "    \n"
   ]
  },
  {
   "cell_type": "markdown",
   "metadata": {
    "deletable": true,
    "editable": true
   },
   "source": [
    "### Train, Validate and Test the Model"
   ]
  },
  {
   "cell_type": "markdown",
   "metadata": {
    "deletable": true,
    "editable": true
   },
   "source": [
    "A validation set can be used to assess how well the model is performing. A low accuracy on the training and validation\n",
    "sets imply underfitting. A high accuracy on the training set but low accuracy on the validation set implies overfitting."
   ]
  },
  {
   "cell_type": "code",
   "execution_count": null,
   "metadata": {
    "collapsed": true,
    "deletable": true,
    "editable": true
   },
   "outputs": [],
   "source": [
    "### Train your model here.\n",
    "### Calculate and report the accuracy on the training and validation set.\n",
    "### Once a final model architecture is selected, \n",
    "### the accuracy on the test set should be calculated and reported as well.\n",
    "### Feel free to use as many code cells as needed."
   ]
  },
  {
   "cell_type": "code",
   "execution_count": null,
   "metadata": {
    "collapsed": false,
    "deletable": true,
    "editable": true
   },
   "outputs": [],
   "source": [
    "'''\n",
    "Question 4\n",
    "How did you train your model? (Type of optimizer, batch size, epochs, hyperparameters, etc.)\n",
    "Answer:\n",
    "Type of optimiser: AdamOptimizer\n",
    "Batch size: 100\n",
    "Training Epochs: 51\n",
    "Learning rate: 0.001\n",
    "Network Parameters:\n",
    "Dropout (conv layer): 0.9\n",
    "Dropout (fully connected layers): 0.9\n",
    "Padding: VALID\n",
    "'''"
   ]
  },
  {
   "cell_type": "code",
   "execution_count": null,
   "metadata": {
    "collapsed": true
   },
   "outputs": [],
   "source": [
    "'''\n",
    "Question 5\n",
    "What approach did you take in coming up with a solution to this problem?\n",
    "Answer:\n",
    "'''"
   ]
  },
  {
   "cell_type": "markdown",
   "metadata": {
    "deletable": true,
    "editable": true
   },
   "source": [
    "---\n",
    "\n",
    "## Step 3: Test a Model on New Images\n",
    "\n",
    "To give yourself more insight into how your model is working, download at least five pictures of German traffic signs from the web and use your model to predict the traffic sign type.\n",
    "\n",
    "You may find `signnames.csv` useful as it contains mappings from the class id (integer) to the actual sign name."
   ]
  },
  {
   "cell_type": "markdown",
   "metadata": {
    "deletable": true,
    "editable": true
   },
   "source": [
    "### Load and Output the Images"
   ]
  },
  {
   "cell_type": "code",
   "execution_count": null,
   "metadata": {
    "collapsed": true,
    "deletable": true,
    "editable": true
   },
   "outputs": [],
   "source": [
    "### Load the images and plot them here.\n",
    "### Feel free to use as many code cells as needed."
   ]
  },
  {
   "cell_type": "code",
   "execution_count": null,
   "metadata": {
    "collapsed": false
   },
   "outputs": [],
   "source": [
    "sign_names = pd.read_csv(\"signnames.csv\")\n",
    "sign_names.head()"
   ]
  },
  {
   "cell_type": "code",
   "execution_count": null,
   "metadata": {
    "collapsed": false
   },
   "outputs": [],
   "source": [
    "### Load the images and plot them \n",
    "### convert images to correct shape and grayscale\n",
    "### predict and print prediction\n",
    "import os\n",
    "import matplotlib.image as mpimg\n",
    "dir = 'new_german_signs/'\n",
    "files = os.listdir(dir)\n",
    "\n",
    "sess = tf.Session()\n",
    "saver.restore(sess, './lenet')\n",
    "\n",
    "for count, filename in enumerate(files):\n",
    "    plt.figure()\n",
    "    img = mpimg.imread(dir + filename)\n",
    "    #plt.imshow(img)\n",
    "    #gray = cv2.cvtColor(img, cv2.COLOR_BGR2GRAY)\n",
    "    \n",
    "    resized = cv2.resize(img, (32, 32))\n",
    "    plt.imshow(resized)\n",
    "    \n",
    "    print(\"Image Shape: {}\".format(resized.shape) + '\\n')\n",
    "    orig = resized.shape\n",
    "    test = np.reshape(cv2.cvtColor(resized, cv2.COLOR_BGR2GRAY), (orig[0], orig[1], 1))\n",
    "    print(\"test shape: {}\".format(test.shape) + '\\n')\n",
    "\n",
    "    plt.subplot(4,4,1)\n",
    "    plt.imshow(resized)\n",
    "    plt.subplot(4,4,2)\n",
    "    plt.imshow(cv2.cvtColor(test,cv2.COLOR_GRAY2RGB))\n",
    "    \n",
    "    test_norm = (test - np.mean(test))*1.0 / (np.max(test) - np.min(test))\n",
    "    plt.subplot(4,4,3)\n",
    "    test_norm_32 = np.array(test_norm, dtype=np.float32)\n",
    "    plt.imshow(cv2.cvtColor(test_norm_32,cv2.COLOR_GRAY2RGB))\n",
    "\n",
    "    plt.subplot(4,4,4)\n",
    "    \n",
    "    gray = cv2.cvtColor(resized, cv2.COLOR_BGR2GRAY)\n",
    "    plt.imshow(gray, cmap='gray')\n",
    "    print(\"gray Shape: {}\".format(gray.shape) + '\\n')\n",
    "    \n",
    "    gray = np.reshape(gray, (1, 32, 32, 1)).astype(np.int32) #(1, 32, 32, 1)\n",
    "    print(\"gray Shape: {}\".format(gray.shape) + '\\n')\n",
    "    \n",
    "    scores = logits.eval(feed_dict={x:gray}, session=sess) #(1, 43)\n",
    "    print(\"scores Shape: {}\".format(scores.shape) + '\\n')\n",
    "    \n",
    "    \n",
    "    #prediction = tf.argmax(scores, 1)\n",
    "    #print('prediction', filename, prediction.eval(session=sess))\n",
    "    \n",
    "    \n",
    "    #softmax = tf.nn.softmax(scores)\n",
    "\n",
    "    #locals()['top_5_'+filename] = sess.run(tf.nn.top_k(softmax, k=5))\n",
    "    #print('top five prediction', filename, 'top_5_'+filename, locals()['top_5_'+filename])\n",
    "    \n",
    " "
   ]
  },
  {
   "cell_type": "markdown",
   "metadata": {
    "deletable": true,
    "editable": true
   },
   "source": [
    "### Predict the Sign Type for Each Image"
   ]
  },
  {
   "cell_type": "code",
   "execution_count": null,
   "metadata": {
    "collapsed": true,
    "deletable": true,
    "editable": true
   },
   "outputs": [],
   "source": [
    "### Run the predictions here and use the model to output the prediction for each image.\n",
    "### Make sure to pre-process the images with the same pre-processing pipeline used earlier.\n",
    "### Feel free to use as many code cells as needed."
   ]
  },
  {
   "cell_type": "code",
   "execution_count": null,
   "metadata": {
    "collapsed": true
   },
   "outputs": [],
   "source": [
    "### Run the predictions here.\n",
    "### Feel free to use as many code cells as needed.\n",
    "def predict(img):\n",
    "    \"\"\"Print model's prediction of which traffic sign this image is.\"\"\"\n",
    "    #classification = sess.run(tf.argmax(logits, 1), feed_dict={x_unflattened: [img]})\n",
    "    #print(classification)\n",
    "    #print('NN predicted', classification[0])\n",
    "    \n",
    "    \n",
    "    plt.figure()\n",
    "    #img = mpimg.imread(dir + filename)\n",
    "    plt.imshow(img)\n",
    "\n",
    "    resized = cv2.resize(img, (32, 32))\n",
    "    gray = cv2.cvtColor(resized, cv2.COLOR_BGR2GRAY)\n",
    "    plt.figure()\n",
    "    plt.imshow(gray, cmap='gray')\n",
    "    \n",
    "    gray = np.reshape(gray, (1, 32, 32, 1)).astype(np.int32)\n",
    "    print('gray has shape:', gray.shape)\n",
    "    \n",
    "    \n",
    "    scores = logits.eval(feed_dict={x:gray}, session=sess)\n",
    "    \n",
    "    \n",
    "    prediction_1 = tf.argmax(scores, 1)\n",
    "    #prediction_2 = sess.run(tf.argmax(scores, 1), feed_dict={x_unflattened: [img]})\n",
    "    \n",
    "    label = prediction_1.eval(session=sess)\n",
    "    print('prediction_1', sign_names.loc[label]['SignName'])\n",
    "    #print('prediction_2')"
   ]
  },
  {
   "cell_type": "code",
   "execution_count": null,
   "metadata": {
    "collapsed": true
   },
   "outputs": [],
   "source": [
    "def read_show_and_pred_image(image_path):\n",
    "    \"\"\"Read image, show image and print model's prediction (of \n",
    "    which traffic sign this image is).\n",
    "    \"\"\"\n",
    "    # Read in image from file\n",
    "    image = mpimg.imread(image_path)\n",
    "    #plt.imshow(image) \n",
    "\n",
    "    \n",
    "    #predict_gray(image)\n",
    "    predict(image)\n",
    "    \n",
    "    return image"
   ]
  },
  {
   "cell_type": "code",
   "execution_count": null,
   "metadata": {
    "collapsed": true
   },
   "outputs": [],
   "source": [
    "def show_and_pred_X_train(index):\n",
    "    \"\"\"Show image from training set and print model's prediction \n",
    "    (of which traffic sign this image is).\n",
    "    \"\"\"\n",
    "    #plt.imshow(X_train[index])\n",
    "    predict(X_train[index])"
   ]
  },
  {
   "cell_type": "code",
   "execution_count": null,
   "metadata": {
    "collapsed": true
   },
   "outputs": [],
   "source": [
    "def show_and_pred_X_test(index):\n",
    "    \"\"\"Show image from training set and print model's prediction \n",
    "    (of which traffic sign this image is).\n",
    "    \"\"\"\n",
    "    #plt.imshow(X_train[index])\n",
    "    predict(X_test[index])"
   ]
  },
  {
   "cell_type": "code",
   "execution_count": null,
   "metadata": {
    "collapsed": true
   },
   "outputs": [],
   "source": [
    "def show_and_pred_image(image):\n",
    "    \"\"\"Show image and print model's prediction (of which traffic \n",
    "    sign this image is).\n",
    "    \"\"\"\n",
    "    #plt.imshow(image)\n",
    "    predict(image)"
   ]
  },
  {
   "cell_type": "code",
   "execution_count": null,
   "metadata": {
    "collapsed": false
   },
   "outputs": [],
   "source": [
    "show_and_pred_X_train(40)"
   ]
  },
  {
   "cell_type": "code",
   "execution_count": null,
   "metadata": {
    "collapsed": false
   },
   "outputs": [],
   "source": [
    "show_and_pred_X_test(1000)"
   ]
  },
  {
   "cell_type": "code",
   "execution_count": null,
   "metadata": {
    "collapsed": true
   },
   "outputs": [],
   "source": [
    "def read_show_and_pred_image_tsdata(image_name):\n",
    "    \"\"\"Read image from dir `traffic-sign-data`, show image and print model's prediction (of \n",
    "    which traffic sign this image is).\n",
    "    \"\"\"\n",
    "    return read_show_and_pred_image('new_german_signs/' + image_name)"
   ]
  },
  {
   "cell_type": "code",
   "execution_count": null,
   "metadata": {
    "collapsed": false
   },
   "outputs": [],
   "source": [
    "limit60km_sign = read_show_and_pred_image_tsdata(\"limit60km.png\")"
   ]
  },
  {
   "cell_type": "code",
   "execution_count": null,
   "metadata": {
    "collapsed": true
   },
   "outputs": [],
   "source": [
    "'''\n",
    "\n",
    "Question 6\n",
    "Choose five candidate images of traffic signs and provide them in the report. \n",
    "Are there any particular qualities of the image(s) that might make classification difficult? \n",
    "It could be helpful to plot the images in the notebook.\n",
    "\n",
    "Answer: I\n",
    "\n",
    "'''"
   ]
  },
  {
   "cell_type": "markdown",
   "metadata": {
    "deletable": true,
    "editable": true
   },
   "source": [
    "### Analyze Performance"
   ]
  },
  {
   "cell_type": "code",
   "execution_count": null,
   "metadata": {
    "collapsed": true,
    "deletable": true,
    "editable": true
   },
   "outputs": [],
   "source": [
    "### Calculate the accuracy for these 5 new images. \n",
    "### For example, if the model predicted 1 out of 5 signs correctly, it's 20% accurate on these new images."
   ]
  },
  {
   "cell_type": "markdown",
   "metadata": {
    "deletable": true,
    "editable": true
   },
   "source": [
    "### Output Top 5 Softmax Probabilities For Each Image Found on the Web"
   ]
  },
  {
   "cell_type": "markdown",
   "metadata": {
    "deletable": true,
    "editable": true
   },
   "source": [
    "For each of the new images, print out the model's softmax probabilities to show the **certainty** of the model's predictions (limit the output to the top 5 probabilities for each image). [`tf.nn.top_k`](https://www.tensorflow.org/versions/r0.12/api_docs/python/nn.html#top_k) could prove helpful here. \n",
    "\n",
    "The example below demonstrates how tf.nn.top_k can be used to find the top k predictions for each image.\n",
    "\n",
    "`tf.nn.top_k` will return the values and indices (class ids) of the top k predictions. So if k=3, for each sign, it'll return the 3 largest probabilities (out of a possible 43) and the correspoding class ids.\n",
    "\n",
    "Take this numpy array as an example. The values in the array represent predictions. The array contains softmax probabilities for five candidate images with six possible classes. `tk.nn.top_k` is used to choose the three classes with the highest probability:\n",
    "\n",
    "```\n",
    "# (5, 6) array\n",
    "a = np.array([[ 0.24879643,  0.07032244,  0.12641572,  0.34763842,  0.07893497,\n",
    "         0.12789202],\n",
    "       [ 0.28086119,  0.27569815,  0.08594638,  0.0178669 ,  0.18063401,\n",
    "         0.15899337],\n",
    "       [ 0.26076848,  0.23664738,  0.08020603,  0.07001922,  0.1134371 ,\n",
    "         0.23892179],\n",
    "       [ 0.11943333,  0.29198961,  0.02605103,  0.26234032,  0.1351348 ,\n",
    "         0.16505091],\n",
    "       [ 0.09561176,  0.34396535,  0.0643941 ,  0.16240774,  0.24206137,\n",
    "         0.09155967]])\n",
    "```\n",
    "\n",
    "Running it through `sess.run(tf.nn.top_k(tf.constant(a), k=3))` produces:\n",
    "\n",
    "```\n",
    "TopKV2(values=array([[ 0.34763842,  0.24879643,  0.12789202],\n",
    "       [ 0.28086119,  0.27569815,  0.18063401],\n",
    "       [ 0.26076848,  0.23892179,  0.23664738],\n",
    "       [ 0.29198961,  0.26234032,  0.16505091],\n",
    "       [ 0.34396535,  0.24206137,  0.16240774]]), indices=array([[3, 0, 5],\n",
    "       [0, 1, 4],\n",
    "       [0, 5, 1],\n",
    "       [1, 3, 5],\n",
    "       [1, 4, 3]], dtype=int32))\n",
    "```\n",
    "\n",
    "Looking just at the first row we get `[ 0.34763842,  0.24879643,  0.12789202]`, you can confirm these are the 3 largest probabilities in `a`. You'll also notice `[3, 0, 5]` are the corresponding indices."
   ]
  },
  {
   "cell_type": "code",
   "execution_count": null,
   "metadata": {
    "collapsed": true,
    "deletable": true,
    "editable": true
   },
   "outputs": [],
   "source": [
    "### Print out the top five softmax probabilities for the predictions on the German traffic sign images found on the web. \n",
    "### Feel free to use as many code cells as needed."
   ]
  },
  {
   "cell_type": "code",
   "execution_count": null,
   "metadata": {
    "collapsed": true
   },
   "outputs": [],
   "source": [
    "\n",
    "def plot_certainty_arrays(probabilities, labels):\n",
    "    \"\"\"Plot model's probabilities (y) and traffic sign labels (x) \n",
    "    in a bar chart.\n",
    "    \"\"\"\n",
    "    y_pos = np.arange(len(labels))\n",
    "    performance = [10,8,6,4,2,1]\n",
    "\n",
    "    plt.bar(y_pos, probabilities, align='center', alpha=0.5)\n",
    "    plt.xticks(y_pos, labels)\n",
    "    plt.ylabel('Probability')\n",
    "    plt.xlabel('Traffic sign')\n",
    "    plt.title('Model\\'s certainty of its predictions')\n",
    "\n",
    "    plt.show()\n",
    "    print(\"Traffic Sign Key\")\n",
    "    for label in labels:\n",
    "        print(label, \": \", sign_names.loc[label]['SignName'])"
   ]
  },
  {
   "cell_type": "code",
   "execution_count": null,
   "metadata": {
    "collapsed": true
   },
   "outputs": [],
   "source": [
    "### Visualize the softmax probabilities here.\n",
    "### Feel free to use as many code cells as needed.\n",
    "\n",
    "def certainty_of_predictions(img):\n",
    "    \"\"\"Return model's top five choices for what traffic sign \n",
    "    this image is and its confidence in its predictions.\n",
    "    \"\"\"\n",
    "    resized = cv2.resize(img, (32, 32))\n",
    "    gray = cv2.cvtColor(resized, cv2.COLOR_BGR2GRAY)\n",
    "    plt.figure()\n",
    "    plt.imshow(gray, cmap='gray')\n",
    "    \n",
    "    gray = np.reshape(gray, (1, 32, 32, 1)).astype(np.int32)\n",
    "    print('gray has shape:', gray.shape)\n",
    "    \n",
    "    scores = logits.eval(feed_dict={x:gray}, session=sess)\n",
    "    \n",
    "    softmax = tf.nn.softmax(scores)\n",
    "\n",
    "    \n",
    "    top_5 = sess.run(tf.nn.top_k(softmax, k=5))\n",
    "    print(\"top_5: \", top_5)\n",
    "    return top_5\n",
    "\n",
    "    #top_five = sess.run(tf.nn.top_k(softmax, k=5), feed_dict={x_unflattened: [img]})\n",
    "    \n",
    "    #print(\"Top five: \", top_five)\n",
    "    \n",
    "    #return top_five"
   ]
  },
  {
   "cell_type": "code",
   "execution_count": null,
   "metadata": {
    "collapsed": true
   },
   "outputs": [],
   "source": [
    "def show_and_pred_certainty_image(image):\n",
    "    new_image = mpimg.imread('new_german_signs/' + image)\n",
    "    \n",
    "    return certainty_of_predictions(new_image)\n"
   ]
  },
  {
   "cell_type": "code",
   "execution_count": null,
   "metadata": {
    "collapsed": true
   },
   "outputs": [],
   "source": [
    "def show_and_pred_certainty_X_train(index):\n",
    "    \"\"\"Show image from training set and print model's certainty of its \n",
    "    prediction (of which traffic sign this image is).\n",
    "    \"\"\"\n",
    "    plt.imshow(X_train[index])\n",
    "    return certainty_of_predictions(X_train[index])"
   ]
  },
  {
   "cell_type": "code",
   "execution_count": null,
   "metadata": {
    "collapsed": true
   },
   "outputs": [],
   "source": [
    "def show_and_pred_certainty_X_test(index):\n",
    "    \"\"\"Show image from training set and print model's certainty of its \n",
    "    prediction (of which traffic sign this image is).\n",
    "    \"\"\"\n",
    "    plt.imshow(X_test[index])\n",
    "    return certainty_of_predictions(X_test[index])"
   ]
  },
  {
   "cell_type": "code",
   "execution_count": null,
   "metadata": {
    "collapsed": false
   },
   "outputs": [],
   "source": [
    "show_and_pred_certainty_X_train(40)"
   ]
  },
  {
   "cell_type": "code",
   "execution_count": null,
   "metadata": {
    "collapsed": false
   },
   "outputs": [],
   "source": [
    "plot_certainty_arrays([ 1.,  0.,  0.,  0.,  0.], [34,  0,  1,  2,  3])"
   ]
  },
  {
   "cell_type": "code",
   "execution_count": null,
   "metadata": {
    "collapsed": false
   },
   "outputs": [],
   "source": [
    "show_and_pred_certainty_X_train(10000)"
   ]
  },
  {
   "cell_type": "code",
   "execution_count": null,
   "metadata": {
    "collapsed": false
   },
   "outputs": [],
   "source": [
    "plot_certainty_arrays([ 1.,  0.,  0.,  0.,  0.], [1, 0, 2, 3, 4])"
   ]
  },
  {
   "cell_type": "code",
   "execution_count": null,
   "metadata": {
    "collapsed": false
   },
   "outputs": [],
   "source": [
    "show_and_pred_certainty_X_test(5000)"
   ]
  },
  {
   "cell_type": "code",
   "execution_count": null,
   "metadata": {
    "collapsed": false
   },
   "outputs": [],
   "source": [
    "plot_certainty_arrays([ 1.,  0.,  0.,  0.,  0.], [26,  0,  1,  2,  3])"
   ]
  },
  {
   "cell_type": "code",
   "execution_count": null,
   "metadata": {
    "collapsed": false
   },
   "outputs": [],
   "source": [
    "limit60km_sign_top5 = show_and_pred_certainty_image(\"limit60km.png\")"
   ]
  },
  {
   "cell_type": "code",
   "execution_count": null,
   "metadata": {
    "collapsed": false
   },
   "outputs": [],
   "source": [
    "plot_certainty_arrays(limit60km_sign_top5[0][0],\n",
    "                      limit60km_sign_top5[1][0])"
   ]
  },
  {
   "cell_type": "markdown",
   "metadata": {
    "deletable": true,
    "editable": true
   },
   "source": [
    "### Project Writeup\n",
    "\n",
    "Once you have completed the code implementation, document your results in a project writeup using this [template](https://github.com/udacity/CarND-Traffic-Sign-Classifier-Project/blob/master/writeup_template.md) as a guide. The writeup can be in a markdown or pdf file. "
   ]
  },
  {
   "cell_type": "markdown",
   "metadata": {
    "deletable": true,
    "editable": true
   },
   "source": [
    "> **Note**: Once you have completed all of the code implementations and successfully answered each question above, you may finalize your work by exporting the iPython Notebook as an HTML document. You can do this by using the menu above and navigating to  \\n\",\n",
    "    \"**File -> Download as -> HTML (.html)**. Include the finished document along with this notebook as your submission."
   ]
  },
  {
   "cell_type": "markdown",
   "metadata": {
    "deletable": true,
    "editable": true
   },
   "source": [
    "---\n",
    "\n",
    "## Step 4 (Optional): Visualize the Neural Network's State with Test Images\n",
    "\n",
    " This Section is not required to complete but acts as an additional excersise for understaning the output of a neural network's weights. While neural networks can be a great learning device they are often referred to as a black box. We can understand what the weights of a neural network look like better by plotting their feature maps. After successfully training your neural network you can see what it's feature maps look like by plotting the output of the network's weight layers in response to a test stimuli image. From these plotted feature maps, it's possible to see what characteristics of an image the network finds interesting. For a sign, maybe the inner network feature maps react with high activation to the sign's boundary outline or to the contrast in the sign's painted symbol.\n",
    "\n",
    " Provided for you below is the function code that allows you to get the visualization output of any tensorflow weight layer you want. The inputs to the function should be a stimuli image, one used during training or a new one you provided, and then the tensorflow variable name that represents the layer's state during the training process, for instance if you wanted to see what the [LeNet lab's](https://classroom.udacity.com/nanodegrees/nd013/parts/fbf77062-5703-404e-b60c-95b78b2f3f9e/modules/6df7ae49-c61c-4bb2-a23e-6527e69209ec/lessons/601ae704-1035-4287-8b11-e2c2716217ad/concepts/d4aca031-508f-4e0b-b493-e7b706120f81) feature maps looked like for it's second convolutional layer you could enter conv2 as the tf_activation variable.\n",
    "\n",
    "For an example of what feature map outputs look like, check out NVIDIA's results in their paper [End-to-End Deep Learning for Self-Driving Cars](https://devblogs.nvidia.com/parallelforall/deep-learning-self-driving-cars/) in the section Visualization of internal CNN State. NVIDIA was able to show that their network's inner weights had high activations to road boundary lines by comparing feature maps from an image with a clear path to one without. Try experimenting with a similar test to show that your trained network's weights are looking for interesting features, whether it's looking at differences in feature maps from images with or without a sign, or even what feature maps look like in a trained network vs a completely untrained one on the same sign image.\n",
    "\n",
    "<figure>\n",
    " <img src=\"visualize_cnn.png\" width=\"380\" alt=\"Combined Image\" />\n",
    " <figcaption>\n",
    " <p></p> \n",
    " <p style=\"text-align: center;\"> Your output should look something like this (above)</p> \n",
    " </figcaption>\n",
    "</figure>\n",
    " <p></p> \n"
   ]
  },
  {
   "cell_type": "code",
   "execution_count": null,
   "metadata": {
    "collapsed": true,
    "deletable": true,
    "editable": true
   },
   "outputs": [],
   "source": [
    "### Visualize your network's feature maps here.\n",
    "### Feel free to use as many code cells as needed.\n",
    "\n",
    "# image_input: the test image being fed into the network to produce the feature maps\n",
    "# tf_activation: should be a tf variable name used during your training procedure that represents the calculated state of a specific weight layer\n",
    "# activation_min/max: can be used to view the activation contrast in more detail, by default matplot sets min and max to the actual min and max values of the output\n",
    "# plt_num: used to plot out multiple different weight feature map sets on the same block, just extend the plt number for each new feature map entry\n",
    "\n",
    "def outputFeatureMap(image_input, tf_activation, activation_min=-1, activation_max=-1 ,plt_num=1):\n",
    "    # Here make sure to preprocess your image_input in a way your network expects\n",
    "    # with size, normalization, ect if needed\n",
    "    # image_input =\n",
    "    # Note: x should be the same name as your network's tensorflow data placeholder variable\n",
    "    # If you get an error tf_activation is not defined it may be having trouble accessing the variable from inside a function\n",
    "    activation = tf_activation.eval(session=sess,feed_dict={x_unflattened : image_input})\n",
    "    featuremaps = activation.shape[3]\n",
    "    plt.figure(plt_num, figsize=(15,15))\n",
    "    for featuremap in range(featuremaps):\n",
    "        plt.subplot(6,8, featuremap+1) # sets the number of feature maps to show on each row and column\n",
    "        plt.title('FeatureMap ' + str(featuremap)) # displays the feature map number\n",
    "        if activation_min != -1 & activation_max != -1:\n",
    "            plt.imshow(activation[0,:,:, featuremap], interpolation=\"nearest\", vmin =activation_min, vmax=activation_max, cmap=\"gray\")\n",
    "        elif activation_max != -1:\n",
    "            plt.imshow(activation[0,:,:, featuremap], interpolation=\"nearest\", vmax=activation_max, cmap=\"gray\")\n",
    "        elif activation_min !=-1:\n",
    "            plt.imshow(activation[0,:,:, featuremap], interpolation=\"nearest\", vmin=activation_min, cmap=\"gray\")\n",
    "        else:\n",
    "            plt.imshow(activation[0,:,:, featuremap], interpolation=\"nearest\", cmap=\"gray\")"
   ]
  },
  {
   "cell_type": "code",
   "execution_count": null,
   "metadata": {
    "collapsed": true
   },
   "outputs": [],
   "source": [
    "feature_img = X_train[10000]"
   ]
  },
  {
   "cell_type": "code",
   "execution_count": null,
   "metadata": {
    "collapsed": false
   },
   "outputs": [],
   "source": [
    "test_gray = cv2.cvtColor(feature_img, cv2.COLOR_BGR2GRAY)\n",
    "print(\"test_gray Shape: {}\".format(test_gray.shape) + '\\n')\n",
    "    \n"
   ]
  },
  {
   "cell_type": "code",
   "execution_count": null,
   "metadata": {
    "collapsed": false
   },
   "outputs": [],
   "source": [
    "test_gray_reshape = np.reshape(test_gray, (1, 32, 32, 1)).astype(np.int32)\n",
    "print(\"test_gray_reshape Shape: {}\".format(test_gray_reshape.shape) + '\\n')"
   ]
  },
  {
   "cell_type": "code",
   "execution_count": null,
   "metadata": {
    "collapsed": false
   },
   "outputs": [],
   "source": [
    "test_activation = conv1.eval(session=sess,feed_dict={x_unflattened : test_gray_reshape})"
   ]
  },
  {
   "cell_type": "code",
   "execution_count": null,
   "metadata": {
    "collapsed": false
   },
   "outputs": [],
   "source": [
    "print(\"test_activation Shape: {}\".format(test_activation.shape) + '\\n')"
   ]
  },
  {
   "cell_type": "code",
   "execution_count": null,
   "metadata": {
    "collapsed": false
   },
   "outputs": [],
   "source": [
    "print(\"test_activation type: {}\".format(type(test_activation)) + '\\n')"
   ]
  },
  {
   "cell_type": "code",
   "execution_count": null,
   "metadata": {
    "collapsed": false
   },
   "outputs": [],
   "source": [
    "test_activation = conv2.eval(session=sess,feed_dict={x_unflattened : test_gray_reshape})\n",
    "print(\"test_activation Shape: {}\".format(test_activation.shape) + '\\n')"
   ]
  },
  {
   "cell_type": "code",
   "execution_count": null,
   "metadata": {
    "collapsed": false
   },
   "outputs": [],
   "source": [
    "test_activation = logits.eval(session=sess,feed_dict={x_unflattened : test_gray_reshape})\n",
    "print(\"test_activation Shape: {}\".format(test_activation.shape) + '\\n')"
   ]
  },
  {
   "cell_type": "code",
   "execution_count": null,
   "metadata": {
    "collapsed": true
   },
   "outputs": [],
   "source": [
    "activation_min=-1\n",
    "activation_max=-1 \n",
    "plt_num=1"
   ]
  },
  {
   "cell_type": "code",
   "execution_count": null,
   "metadata": {
    "collapsed": false
   },
   "outputs": [],
   "source": [
    "outputFeatureMap(test_gray_reshape, conv1)"
   ]
  },
  {
   "cell_type": "code",
   "execution_count": null,
   "metadata": {
    "collapsed": false
   },
   "outputs": [],
   "source": [
    "outputFeatureMap(test_gray_reshape, conv2)"
   ]
  },
  {
   "cell_type": "code",
   "execution_count": null,
   "metadata": {
    "collapsed": false
   },
   "outputs": [],
   "source": [
    "test_activation = fc1.eval(session=sess,feed_dict={x_unflattened : test_gray_reshape})\n",
    "print(\"test_activation Shape: {}\".format(test_activation.shape) + '\\n')"
   ]
  }
 ],
 "metadata": {
  "anaconda-cloud": {},
  "kernelspec": {
   "display_name": "Python [carnd-term1]",
   "language": "python",
   "name": "Python [carnd-term1]"
  },
  "language_info": {
   "codemirror_mode": {
    "name": "ipython",
    "version": 3
   },
   "file_extension": ".py",
   "mimetype": "text/x-python",
   "name": "python",
   "nbconvert_exporter": "python",
   "pygments_lexer": "ipython3",
   "version": "3.5.2"
  },
  "widgets": {
   "state": {},
   "version": "1.1.2"
  }
 },
 "nbformat": 4,
 "nbformat_minor": 1
}
